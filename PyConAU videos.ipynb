{
 "cells": [
  {
   "cell_type": "code",
   "execution_count": 23,
   "metadata": {
    "collapsed": false,
    "scrolled": true
   },
   "outputs": [],
   "source": [
    "import pandas\n",
    "import googleapiclient\n",
    "from googleapiclient.discovery import build\n",
    "from secrets import API_KEY\n",
    "youtube = build('youtube', 'v3', developerKey=API_KEY)\n",
    "analytics = build('youtubeAnalytics', 'v1', developerKey=API_KEY)\n",
    "\n",
    "pyconau_channels = youtube.channels().list(forUsername='PyConAU', part='contentDetails').execute()\n",
    "uploads_list_id = pyconau_channels['items'][0]['contentDetails']['relatedPlaylists']['uploads']\n",
    "\n",
    "# Retrieve the list of videos uploaded to the PyConAU channel.\n",
    "playlistitems_list_request = youtube.playlistItems().list(\n",
    "    playlistId=uploads_list_id,\n",
    "    part=\"snippet\",\n",
    "    #maxResults=10\n",
    "  )\n",
    "\n",
    "data1 = []\n",
    "columns1 = ('id', 'title', 'published')\n",
    "while playlistitems_list_request:\n",
    "\n",
    "    playlistitems_list_response = playlistitems_list_request.execute()\n",
    "\n",
    "    for playlist_item in playlistitems_list_response[\"items\"]:\n",
    "        title = playlist_item[\"snippet\"][\"title\"]\n",
    "        published = playlist_item[\"snippet\"][\"publishedAt\"]\n",
    "        video_id = playlist_item[\"snippet\"][\"resourceId\"][\"videoId\"]\n",
    "        data1.append((video_id, title, published))\n",
    "\n",
    "        playlistitems_list_request = youtube.playlistItems().list_next(\n",
    "          playlistitems_list_request, playlistitems_list_response)\n",
    "\n",
    "df1 = pandas.DataFrame(data1, columns=columns1)"
   ]
  },
  {
   "cell_type": "code",
   "execution_count": 28,
   "metadata": {
    "collapsed": false
   },
   "outputs": [
    {
     "data": {
      "text/html": [
       "<div>\n",
       "<table border=\"1\" class=\"dataframe\">\n",
       "  <thead>\n",
       "    <tr style=\"text-align: right;\">\n",
       "      <th></th>\n",
       "      <th>id</th>\n",
       "      <th>title</th>\n",
       "      <th>published</th>\n",
       "    </tr>\n",
       "  </thead>\n",
       "  <tbody>\n",
       "    <tr>\n",
       "      <th>0</th>\n",
       "      <td>Wnj31Nejstc</td>\n",
       "      <td>Are they ready? A quick review of graph databa...</td>\n",
       "      <td>2015-08-29T07:23:39.000Z</td>\n",
       "    </tr>\n",
       "    <tr>\n",
       "      <th>1</th>\n",
       "      <td>c16jwvOmKxM</td>\n",
       "      <td>Cooking with Cryptography by Fraser Tweedale</td>\n",
       "      <td>2015-08-17T22:18:57.000Z</td>\n",
       "    </tr>\n",
       "    <tr>\n",
       "      <th>2</th>\n",
       "      <td>2e9dMr5sErs</td>\n",
       "      <td>Education Miniconf Closing Keynote by Carrie A...</td>\n",
       "      <td>2015-08-17T04:49:16.000Z</td>\n",
       "    </tr>\n",
       "    <tr>\n",
       "      <th>3</th>\n",
       "      <td>9_LnOTFDNUk</td>\n",
       "      <td>¡Mangle You A Python Interpreter for New Behav...</td>\n",
       "      <td>2015-08-16T13:09:58.000Z</td>\n",
       "    </tr>\n",
       "    <tr>\n",
       "      <th>4</th>\n",
       "      <td>0FOQB4PZVe0</td>\n",
       "      <td>Privsep: A New Security Isolation Mechanism fo...</td>\n",
       "      <td>2015-08-16T11:05:40.000Z</td>\n",
       "    </tr>\n",
       "  </tbody>\n",
       "</table>\n",
       "</div>"
      ],
      "text/plain": [
       "            id                                              title  \\\n",
       "0  Wnj31Nejstc  Are they ready? A quick review of graph databa...   \n",
       "1  c16jwvOmKxM       Cooking with Cryptography by Fraser Tweedale   \n",
       "2  2e9dMr5sErs  Education Miniconf Closing Keynote by Carrie A...   \n",
       "3  9_LnOTFDNUk  ¡Mangle You A Python Interpreter for New Behav...   \n",
       "4  0FOQB4PZVe0  Privsep: A New Security Isolation Mechanism fo...   \n",
       "\n",
       "                  published  \n",
       "0  2015-08-29T07:23:39.000Z  \n",
       "1  2015-08-17T22:18:57.000Z  \n",
       "2  2015-08-17T04:49:16.000Z  \n",
       "3  2015-08-16T13:09:58.000Z  \n",
       "4  2015-08-16T11:05:40.000Z  "
      ]
     },
     "execution_count": 28,
     "metadata": {},
     "output_type": "execute_result"
    }
   ],
   "source": [
    "df1.head()"
   ]
  },
  {
   "cell_type": "code",
   "execution_count": 18,
   "metadata": {
    "collapsed": false
   },
   "outputs": [],
   "source": [
    "data2 = []\n",
    "columns2 = ('id', 'viewCount', 'likeCount', 'faveCount')\n",
    "\n",
    "start = 0\n",
    "while start < len(df1):\n",
    "    ids = ','.join(df1['id'][start:start + 50])\n",
    "    all_videos = youtube.videos().list(id=ids, part='id,statistics').execute()\n",
    "    for video in all_videos['items']:\n",
    "        stats = video['statistics']\n",
    "        data2.append((video['id'], stats['viewCount']), stats['likeCount'], stats['favoriteCount']))\n",
    "    start += 50\n",
    "\n",
    "df2 = pandas.DataFrame(data2, columns=columns2)"
   ]
  },
  {
   "cell_type": "code",
   "execution_count": 22,
   "metadata": {
    "collapsed": false
   },
   "outputs": [
    {
     "data": {
      "text/html": [
       "<div>\n",
       "<table border=\"1\" class=\"dataframe\">\n",
       "  <thead>\n",
       "    <tr style=\"text-align: right;\">\n",
       "      <th></th>\n",
       "      <th>id</th>\n",
       "      <th>viewCount</th>\n",
       "      <th>likeCount</th>\n",
       "      <th>faveCount</th>\n",
       "    </tr>\n",
       "  </thead>\n",
       "  <tbody>\n",
       "    <tr>\n",
       "      <th>0</th>\n",
       "      <td>Wnj31Nejstc</td>\n",
       "      <td>366</td>\n",
       "      <td>2</td>\n",
       "      <td>0</td>\n",
       "    </tr>\n",
       "    <tr>\n",
       "      <th>1</th>\n",
       "      <td>c16jwvOmKxM</td>\n",
       "      <td>194</td>\n",
       "      <td>0</td>\n",
       "      <td>0</td>\n",
       "    </tr>\n",
       "    <tr>\n",
       "      <th>2</th>\n",
       "      <td>2e9dMr5sErs</td>\n",
       "      <td>100</td>\n",
       "      <td>1</td>\n",
       "      <td>0</td>\n",
       "    </tr>\n",
       "    <tr>\n",
       "      <th>3</th>\n",
       "      <td>9_LnOTFDNUk</td>\n",
       "      <td>90</td>\n",
       "      <td>1</td>\n",
       "      <td>0</td>\n",
       "    </tr>\n",
       "    <tr>\n",
       "      <th>4</th>\n",
       "      <td>0FOQB4PZVe0</td>\n",
       "      <td>68</td>\n",
       "      <td>1</td>\n",
       "      <td>0</td>\n",
       "    </tr>\n",
       "  </tbody>\n",
       "</table>\n",
       "</div>"
      ],
      "text/plain": [
       "            id viewCount likeCount faveCount\n",
       "0  Wnj31Nejstc       366         2         0\n",
       "1  c16jwvOmKxM       194         0         0\n",
       "2  2e9dMr5sErs       100         1         0\n",
       "3  9_LnOTFDNUk        90         1         0\n",
       "4  0FOQB4PZVe0        68         1         0"
      ]
     },
     "execution_count": 22,
     "metadata": {},
     "output_type": "execute_result"
    }
   ],
   "source": [
    "df2.head()"
   ]
  },
  {
   "cell_type": "code",
   "execution_count": 58,
   "metadata": {
    "collapsed": false
   },
   "outputs": [
    {
     "data": {
      "text/html": [
       "<div>\n",
       "<table border=\"1\" class=\"dataframe\">\n",
       "  <thead>\n",
       "    <tr style=\"text-align: right;\">\n",
       "      <th></th>\n",
       "      <th>id</th>\n",
       "      <th>title</th>\n",
       "      <th>published</th>\n",
       "      <th>viewCount</th>\n",
       "      <th>likeCount</th>\n",
       "      <th>faveCount</th>\n",
       "    </tr>\n",
       "  </thead>\n",
       "  <tbody>\n",
       "    <tr>\n",
       "      <th>0</th>\n",
       "      <td>Wnj31Nejstc</td>\n",
       "      <td>Are they ready? A quick review of graph databa...</td>\n",
       "      <td>2015-08-29 07:23:39</td>\n",
       "      <td>366</td>\n",
       "      <td>2</td>\n",
       "      <td>0</td>\n",
       "    </tr>\n",
       "    <tr>\n",
       "      <th>1</th>\n",
       "      <td>c16jwvOmKxM</td>\n",
       "      <td>Cooking with Cryptography by Fraser Tweedale</td>\n",
       "      <td>2015-08-17 22:18:57</td>\n",
       "      <td>194</td>\n",
       "      <td>0</td>\n",
       "      <td>0</td>\n",
       "    </tr>\n",
       "    <tr>\n",
       "      <th>2</th>\n",
       "      <td>2e9dMr5sErs</td>\n",
       "      <td>Education Miniconf Closing Keynote by Carrie A...</td>\n",
       "      <td>2015-08-17 04:49:16</td>\n",
       "      <td>100</td>\n",
       "      <td>1</td>\n",
       "      <td>0</td>\n",
       "    </tr>\n",
       "    <tr>\n",
       "      <th>3</th>\n",
       "      <td>9_LnOTFDNUk</td>\n",
       "      <td>¡Mangle You A Python Interpreter for New Behav...</td>\n",
       "      <td>2015-08-16 13:09:58</td>\n",
       "      <td>90</td>\n",
       "      <td>1</td>\n",
       "      <td>0</td>\n",
       "    </tr>\n",
       "    <tr>\n",
       "      <th>4</th>\n",
       "      <td>0FOQB4PZVe0</td>\n",
       "      <td>Privsep: A New Security Isolation Mechanism fo...</td>\n",
       "      <td>2015-08-16 11:05:40</td>\n",
       "      <td>68</td>\n",
       "      <td>1</td>\n",
       "      <td>0</td>\n",
       "    </tr>\n",
       "  </tbody>\n",
       "</table>\n",
       "</div>"
      ],
      "text/plain": [
       "            id                                              title  \\\n",
       "0  Wnj31Nejstc  Are they ready? A quick review of graph databa...   \n",
       "1  c16jwvOmKxM       Cooking with Cryptography by Fraser Tweedale   \n",
       "2  2e9dMr5sErs  Education Miniconf Closing Keynote by Carrie A...   \n",
       "3  9_LnOTFDNUk  ¡Mangle You A Python Interpreter for New Behav...   \n",
       "4  0FOQB4PZVe0  Privsep: A New Security Isolation Mechanism fo...   \n",
       "\n",
       "            published  viewCount  likeCount  faveCount  \n",
       "0 2015-08-29 07:23:39        366          2          0  \n",
       "1 2015-08-17 22:18:57        194          0          0  \n",
       "2 2015-08-17 04:49:16        100          1          0  \n",
       "3 2015-08-16 13:09:58         90          1          0  \n",
       "4 2015-08-16 11:05:40         68          1          0  "
      ]
     },
     "execution_count": 58,
     "metadata": {},
     "output_type": "execute_result"
    }
   ],
   "source": [
    "videos = pandas.merge(df1, df2, on='id')\n",
    "videos['published'] = pandas.to_datetime(videos['published'])\n",
    "videos[['viewCount', 'likeCount', 'faveCount']] = videos[['viewCount', 'likeCount', 'faveCount']].astype(int)\n",
    "videos.head()"
   ]
  },
  {
   "cell_type": "code",
   "execution_count": 59,
   "metadata": {
    "collapsed": false
   },
   "outputs": [
    {
     "data": {
      "text/html": [
       "<div>\n",
       "<table border=\"1\" class=\"dataframe\">\n",
       "  <thead>\n",
       "    <tr style=\"text-align: right;\">\n",
       "      <th></th>\n",
       "      <th>id</th>\n",
       "      <th>title</th>\n",
       "      <th>published</th>\n",
       "      <th>viewCount</th>\n",
       "      <th>likeCount</th>\n",
       "      <th>faveCount</th>\n",
       "    </tr>\n",
       "  </thead>\n",
       "  <tbody>\n",
       "    <tr>\n",
       "      <th>268</th>\n",
       "      <td>AYjPIMe0BhA</td>\n",
       "      <td>Web micro-framework battle - Richard Jones</td>\n",
       "      <td>2011-08-22 14:29:11</td>\n",
       "      <td>17070</td>\n",
       "      <td>161</td>\n",
       "      <td>0</td>\n",
       "    </tr>\n",
       "    <tr>\n",
       "      <th>214</th>\n",
       "      <td>hqOsfS3dP9w</td>\n",
       "      <td>Modern scientific computing and big data analy...</td>\n",
       "      <td>2013-07-10 14:55:25</td>\n",
       "      <td>48088</td>\n",
       "      <td>144</td>\n",
       "      <td>0</td>\n",
       "    </tr>\n",
       "    <tr>\n",
       "      <th>212</th>\n",
       "      <td>RQ-lIU0jWwg</td>\n",
       "      <td>Making games in pygame</td>\n",
       "      <td>2013-07-11 00:45:36</td>\n",
       "      <td>25368</td>\n",
       "      <td>103</td>\n",
       "      <td>0</td>\n",
       "    </tr>\n",
       "    <tr>\n",
       "      <th>194</th>\n",
       "      <td>yI7NYgP54sw</td>\n",
       "      <td>Tinkering with Tkinter</td>\n",
       "      <td>2013-07-11 00:45:36</td>\n",
       "      <td>15767</td>\n",
       "      <td>101</td>\n",
       "      <td>0</td>\n",
       "    </tr>\n",
       "    <tr>\n",
       "      <th>225</th>\n",
       "      <td>H2yfXnUb1S4</td>\n",
       "      <td>Don't Do This</td>\n",
       "      <td>2013-07-10 09:18:16</td>\n",
       "      <td>16630</td>\n",
       "      <td>67</td>\n",
       "      <td>0</td>\n",
       "    </tr>\n",
       "  </tbody>\n",
       "</table>\n",
       "</div>"
      ],
      "text/plain": [
       "              id                                              title  \\\n",
       "268  AYjPIMe0BhA         Web micro-framework battle - Richard Jones   \n",
       "214  hqOsfS3dP9w  Modern scientific computing and big data analy...   \n",
       "212  RQ-lIU0jWwg                             Making games in pygame   \n",
       "194  yI7NYgP54sw                             Tinkering with Tkinter   \n",
       "225  H2yfXnUb1S4                                      Don't Do This   \n",
       "\n",
       "              published  viewCount  likeCount  faveCount  \n",
       "268 2011-08-22 14:29:11      17070        161          0  \n",
       "214 2013-07-10 14:55:25      48088        144          0  \n",
       "212 2013-07-11 00:45:36      25368        103          0  \n",
       "194 2013-07-11 00:45:36      15767        101          0  \n",
       "225 2013-07-10 09:18:16      16630         67          0  "
      ]
     },
     "execution_count": 59,
     "metadata": {},
     "output_type": "execute_result"
    }
   ],
   "source": [
    "videos.sort_values(by=['likeCount', 'viewCount'], ascending=False).head()"
   ]
  },
  {
   "cell_type": "code",
   "execution_count": 60,
   "metadata": {
    "collapsed": false
   },
   "outputs": [
    {
     "data": {
      "text/html": [
       "<div>\n",
       "<table border=\"1\" class=\"dataframe\">\n",
       "  <thead>\n",
       "    <tr style=\"text-align: right;\">\n",
       "      <th></th>\n",
       "      <th>id</th>\n",
       "      <th>title</th>\n",
       "      <th>published</th>\n",
       "      <th>viewCount</th>\n",
       "      <th>likeCount</th>\n",
       "      <th>faveCount</th>\n",
       "    </tr>\n",
       "  </thead>\n",
       "  <tbody>\n",
       "    <tr>\n",
       "      <th>0</th>\n",
       "      <td>Wnj31Nejstc</td>\n",
       "      <td>Are they ready? A quick review of graph databa...</td>\n",
       "      <td>2015-08-29 07:23:39</td>\n",
       "      <td>366</td>\n",
       "      <td>2</td>\n",
       "      <td>0</td>\n",
       "    </tr>\n",
       "    <tr>\n",
       "      <th>218</th>\n",
       "      <td>UwuMclgqtAQ</td>\n",
       "      <td>Growing Open Source Seeds</td>\n",
       "      <td>2013-07-10 13:22:36</td>\n",
       "      <td>255</td>\n",
       "      <td>1</td>\n",
       "      <td>0</td>\n",
       "    </tr>\n",
       "    <tr>\n",
       "      <th>198</th>\n",
       "      <td>-AGgugxn4RM</td>\n",
       "      <td>Software Carpentry arrives Down Under!</td>\n",
       "      <td>2013-07-11 00:45:36</td>\n",
       "      <td>230</td>\n",
       "      <td>3</td>\n",
       "      <td>0</td>\n",
       "    </tr>\n",
       "    <tr>\n",
       "      <th>197</th>\n",
       "      <td>uI39nXHLVj8</td>\n",
       "      <td>The life of a web request - techniques for mea...</td>\n",
       "      <td>2013-07-11 00:45:36</td>\n",
       "      <td>513</td>\n",
       "      <td>4</td>\n",
       "      <td>0</td>\n",
       "    </tr>\n",
       "    <tr>\n",
       "      <th>196</th>\n",
       "      <td>wWlmpoSN34I</td>\n",
       "      <td>Transitioning from PHP to Django on the sly</td>\n",
       "      <td>2013-07-11 00:45:36</td>\n",
       "      <td>977</td>\n",
       "      <td>15</td>\n",
       "      <td>0</td>\n",
       "    </tr>\n",
       "  </tbody>\n",
       "</table>\n",
       "</div>"
      ],
      "text/plain": [
       "              id                                              title  \\\n",
       "0    Wnj31Nejstc  Are they ready? A quick review of graph databa...   \n",
       "218  UwuMclgqtAQ                          Growing Open Source Seeds   \n",
       "198  -AGgugxn4RM             Software Carpentry arrives Down Under!   \n",
       "197  uI39nXHLVj8  The life of a web request - techniques for mea...   \n",
       "196  wWlmpoSN34I        Transitioning from PHP to Django on the sly   \n",
       "\n",
       "              published  viewCount  likeCount  faveCount  \n",
       "0   2015-08-29 07:23:39        366          2          0  \n",
       "218 2013-07-10 13:22:36        255          1          0  \n",
       "198 2013-07-11 00:45:36        230          3          0  \n",
       "197 2013-07-11 00:45:36        513          4          0  \n",
       "196 2013-07-11 00:45:36        977         15          0  "
      ]
     },
     "execution_count": 60,
     "metadata": {},
     "output_type": "execute_result"
    }
   ],
   "source": [
    "videos.sort_values(by=['faveCount'], ascending=False).head()"
   ]
  },
  {
   "cell_type": "code",
   "execution_count": 63,
   "metadata": {
    "collapsed": false
   },
   "outputs": [
    {
     "data": {
      "text/html": [
       "<div>\n",
       "<table border=\"1\" class=\"dataframe\">\n",
       "  <thead>\n",
       "    <tr style=\"text-align: right;\">\n",
       "      <th></th>\n",
       "      <th>id</th>\n",
       "      <th>title</th>\n",
       "      <th>published</th>\n",
       "      <th>viewCount</th>\n",
       "      <th>likeCount</th>\n",
       "      <th>faveCount</th>\n",
       "    </tr>\n",
       "  </thead>\n",
       "  <tbody>\n",
       "  </tbody>\n",
       "</table>\n",
       "</div>"
      ],
      "text/plain": [
       "Empty DataFrame\n",
       "Columns: [id, title, published, viewCount, likeCount, faveCount]\n",
       "Index: []"
      ]
     },
     "execution_count": 63,
     "metadata": {},
     "output_type": "execute_result"
    }
   ],
   "source": [
    "videos[videos['faveCount'] > 0]"
   ]
  },
  {
   "cell_type": "code",
   "execution_count": null,
   "metadata": {
    "collapsed": true
   },
   "outputs": [],
   "source": []
  }
 ],
 "metadata": {
  "kernelspec": {
   "display_name": "Python 3",
   "language": "python",
   "name": "python3"
  },
  "language_info": {
   "codemirror_mode": {
    "name": "ipython",
    "version": 3
   },
   "file_extension": ".py",
   "mimetype": "text/x-python",
   "name": "python",
   "nbconvert_exporter": "python",
   "pygments_lexer": "ipython3",
   "version": "3.5.1"
  }
 },
 "nbformat": 4,
 "nbformat_minor": 0
}
