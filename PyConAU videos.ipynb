{
 "cells": [
  {
   "cell_type": "code",
   "execution_count": 12,
   "metadata": {
    "collapsed": false,
    "scrolled": true
   },
   "outputs": [
    {
     "name": "stdout",
     "output_type": "stream",
     "text": [
      "UUS9sdEyduD9K83K3GkvQlOA\n",
      "Are they ready? A quick review of graph databases and Python by Nic Crouchs (2015-08-29T07:23:39.000Z)\n",
      "Cooking with Cryptography by Fraser Tweedales (2015-08-17T22:18:57.000Z)\n",
      "Education Miniconf Closing Keynote by Carrie Anne Philbins (2015-08-17T04:49:16.000Z)\n",
      "¡Mangle You A Python Interpreter for New Behaviour! by Javier Candeiras (2015-08-16T13:09:58.000Z)\n",
      "Privsep: A New Security Isolation Mechanism for OpenStack by Angus Leess (2015-08-16T11:05:40.000Z)\n",
      "Wax On, Wax Off: The Tough Love Guide to Mentoring by Anita Kunos (2015-08-16T10:44:03.000Z)\n",
      "Lightning Talks & Closings (2015-08-08T23:42:51.000Z)\n",
      "A Scientific Game Engine in the Cloud by Oliver Nagys (2015-08-07T00:47:49.000Z)\n",
      "Make your logs work for you by Honza Králs (2015-08-06T01:41:40.000Z)\n",
      "JSON Standards for the Web by Jamie  Lennoxs (2015-08-04T07:30:05.000Z)\n",
      "----------\n",
      "{'nextPageToken': 'CAoQAA', 'etag': '\"DsOZ7qVJA4mxdTxZeNzis6uE6ck/EIbZRbhVJcxMMG1dGscFVt_fK2A\"', 'pageInfo': {'totalResults': 291, 'resultsPerPage': 10}, 'items': [{'etag': '\"DsOZ7qVJA4mxdTxZeNzis6uE6ck/Uk7ixRrwrruxnLIjivsUHhNtJo8\"', 'id': 'UUI1qamd_jlSRI2exXa2niJ8gBVaK4mpTw', 'snippet': {'publishedAt': '2015-08-29T07:23:39.000Z', 'resourceId': {'videoId': 'Wnj31Nejstc', 'kind': 'youtube#video'}, 'playlistId': 'UUS9sdEyduD9K83K3GkvQlOA', 'channelId': 'UCS9sdEyduD9K83K3GkvQlOA', 'title': 'Are they ready? A quick review of graph databases and Python by Nic Crouch', 'channelTitle': 'PyCon Australia', 'position': 0, 'thumbnails': {'default': {'url': 'https://i.ytimg.com/vi/Wnj31Nejstc/default.jpg', 'width': 120, 'height': 90}, 'maxres': {'url': 'https://i.ytimg.com/vi/Wnj31Nejstc/maxresdefault.jpg', 'width': 1280, 'height': 720}, 'standard': {'url': 'https://i.ytimg.com/vi/Wnj31Nejstc/sddefault.jpg', 'width': 640, 'height': 480}, 'medium': {'url': 'https://i.ytimg.com/vi/Wnj31Nejstc/mqdefault.jpg', 'width': 320, 'height': 180}, 'high': {'url': 'https://i.ytimg.com/vi/Wnj31Nejstc/hqdefault.jpg', 'width': 480, 'height': 360}}, 'description': \"Graph databases store, retrieve and process data that takes the form of a graph: a network of nodes and the relationships between them. As one of the fastest growing database models over the past two years, they promise a number of fantastic outcomes including increased performance, faster development, and cleaner code. Vendors also boast of large corporate deployments throughout the US and Europe. \\n\\nSo, are graph databases as good as they sound? How can we use them with Python? \\n\\nThis talk will review a couple of the most popular graph databases including Neo4J, Titan and OrientDB.   The focus will be on interacting with each database as Pythonically as possible – using Python APIs as much as possible. Along the way it will give an idea of ease of use, speed, documentation quality and stability, as well as any other challenges or tricks that found along the way. It isn’t a tutorial – there’s not enough time, and those exist elsewhere – but instead more of an introduction to what is out there and what you can do with it. \\n\\nAt the end of the talk, you will have an idea of what it takes to get started with Graph Databases in Python, and also an idea of which toolset you want to use. You’ll also have an idea of the sorts of problems which map well to graph databases, and which ones may be better suited to other storage and processing methods. \\n\\nYou won’t need to have a background in graphs or even a lot of Python experience to get through this talk. However, it’s always good to have a potential application in mind.\\n\\n\\nPyCon Australia is the national conference for users of the Python Programming Language. In 2015, we're heading to Brisbane to bring together students, enthusiasts, and professionals with a love of Python from around Australia, and all around the World. \\n\\nJuly 31-August 4, Brisbane, Queensland, Australia\"}, 'kind': 'youtube#playlistItem'}, {'etag': '\"DsOZ7qVJA4mxdTxZeNzis6uE6ck/lB01U9iwXKBDnUJoEvqoE7vOzJk\"', 'id': 'UUI1qamd_jlSSqf_TAHpJsKwzkQFPg0DDt', 'snippet': {'publishedAt': '2015-08-17T22:18:57.000Z', 'resourceId': {'videoId': 'c16jwvOmKxM', 'kind': 'youtube#video'}, 'playlistId': 'UUS9sdEyduD9K83K3GkvQlOA', 'channelId': 'UCS9sdEyduD9K83K3GkvQlOA', 'title': 'Cooking with Cryptography by Fraser Tweedale', 'channelTitle': 'PyCon Australia', 'position': 1, 'thumbnails': {'default': {'url': 'https://i.ytimg.com/vi/c16jwvOmKxM/default.jpg', 'width': 120, 'height': 90}, 'maxres': {'url': 'https://i.ytimg.com/vi/c16jwvOmKxM/maxresdefault.jpg', 'width': 1280, 'height': 720}, 'standard': {'url': 'https://i.ytimg.com/vi/c16jwvOmKxM/sddefault.jpg', 'width': 640, 'height': 480}, 'medium': {'url': 'https://i.ytimg.com/vi/c16jwvOmKxM/mqdefault.jpg', 'width': 320, 'height': 180}, 'high': {'url': 'https://i.ytimg.com/vi/c16jwvOmKxM/hqdefault.jpg', 'width': 480, 'height': 360}}, 'description': 'The ``cryptography`` library emerged in 2014 with the goal of\\nbecoming Python\\'s \"cryptographic standard library\".  It is designed\\nto be easy to use but flexible, exposing a *recipes* layer for\\ncommon use cases, and a *hazmat* layer that provides crypto\\nprimitives but demands users know what they\\'re doing in order to use\\nthem properly.\\n\\nThis talk will explain the motivations and goals of the\\n``cryptography`` library, take a tour of its features and discuss\\nits implementation.  ``cryptography`` will be compared to some other\\npopular and emerging crypto libraries.  Finally, we will examine\\nsome real-world use of the library.\\n\\nAudience members should have a passing familiarity with cryptography\\n(e.g. know the differences between hashing and encryption, or public\\nkey and private key crypto) to get the most out of this talk.\\n\\nPyCon Australia is the national conference for users of the Python Programming Language. In 2015, we\\'re heading to Brisbane to bring together students, enthusiasts, and professionals with a love of Python from around Australia, and all around the World. \\n\\nJuly 31-August 4, Brisbane, Queensland, Australia'}, 'kind': 'youtube#playlistItem'}, {'etag': '\"DsOZ7qVJA4mxdTxZeNzis6uE6ck/sjIRxbBaqmLqib4A86_nxgIe2dY\"', 'id': 'UUI1qamd_jlSQ6T_rkzwQxccO-iOYdh223', 'snippet': {'publishedAt': '2015-08-17T04:49:16.000Z', 'resourceId': {'videoId': '2e9dMr5sErs', 'kind': 'youtube#video'}, 'playlistId': 'UUS9sdEyduD9K83K3GkvQlOA', 'channelId': 'UCS9sdEyduD9K83K3GkvQlOA', 'title': 'Education Miniconf Closing Keynote by Carrie Anne Philbin', 'channelTitle': 'PyCon Australia', 'position': 2, 'thumbnails': {'default': {'url': 'https://i.ytimg.com/vi/2e9dMr5sErs/default.jpg', 'width': 120, 'height': 90}, 'maxres': {'url': 'https://i.ytimg.com/vi/2e9dMr5sErs/maxresdefault.jpg', 'width': 1280, 'height': 720}, 'standard': {'url': 'https://i.ytimg.com/vi/2e9dMr5sErs/sddefault.jpg', 'width': 640, 'height': 480}, 'medium': {'url': 'https://i.ytimg.com/vi/2e9dMr5sErs/mqdefault.jpg', 'width': 320, 'height': 180}, 'high': {'url': 'https://i.ytimg.com/vi/2e9dMr5sErs/hqdefault.jpg', 'width': 480, 'height': 360}}, 'description': \"PyCon Australia is the national conference for users of the Python Programming Language. In 2015, we're heading to Brisbane to bring together students, enthusiasts, and professionals with a love of Python from around Australia, and all around the World. \\n\\nJuly 31-August 4, Brisbane, Queensland, Australia\"}, 'kind': 'youtube#playlistItem'}, {'etag': '\"DsOZ7qVJA4mxdTxZeNzis6uE6ck/AnxXvwJk6jPGKYXUf5YbJnRnfig\"', 'id': 'UUI1qamd_jlSTjN8SB-zo2ilKy_LQWIQQe', 'snippet': {'publishedAt': '2015-08-16T13:09:58.000Z', 'resourceId': {'videoId': '9_LnOTFDNUk', 'kind': 'youtube#video'}, 'playlistId': 'UUS9sdEyduD9K83K3GkvQlOA', 'channelId': 'UCS9sdEyduD9K83K3GkvQlOA', 'title': '¡Mangle You A Python Interpreter for New Behaviour! by Javier Candeira', 'channelTitle': 'PyCon Australia', 'position': 3, 'thumbnails': {'default': {'url': 'https://i.ytimg.com/vi/9_LnOTFDNUk/default.jpg', 'width': 120, 'height': 90}, 'maxres': {'url': 'https://i.ytimg.com/vi/9_LnOTFDNUk/maxresdefault.jpg', 'width': 1280, 'height': 720}, 'standard': {'url': 'https://i.ytimg.com/vi/9_LnOTFDNUk/sddefault.jpg', 'width': 640, 'height': 480}, 'medium': {'url': 'https://i.ytimg.com/vi/9_LnOTFDNUk/mqdefault.jpg', 'width': 320, 'height': 180}, 'high': {'url': 'https://i.ytimg.com/vi/9_LnOTFDNUk/hqdefault.jpg', 'width': 480, 'height': 360}}, 'description': 'What happens when you feel some syntax or behaviour is missing from Python? You could fork the interpreter, but then nobody else could run your programs. Instead, you could implement the new behaviour as a Python module to be imported, and distribute it with your programs.\\n\\nFollowing hot on the tracks of previous Pycon-AU talks like \"Don\\'t Do This\" (2013) and the \"ugly hacks\" bit of \"Here be dragons: some elegant and ugly hacks in CPython\" (2014), this presentation will grant some of the requests you never dared to make:\\n\\n- You\\'d like for PEP 336, Make None Callable to have succeeded? You can make your own None()! Easy in CPython with CTypes!\\n\\n- You\\'d like to have the \"?.\" operator available for safe attribute access? Just add the syntax to pypy, then use a source codec hack to rewrite it into a legal Python 2.7 function. Too easy!\\n\\n- Your reaction to all of this is “please make it stop”? The talk will finish by discussing why having extensible syntax as a standard Python feature might even be a good idea! It is in other languages!\\n\\nThis talk is for intermediate to advanced Python users, and for beginning Python implementors.\\n\\nSlides: http://hiperactivo.com/talks/pyconau15/mangling_python/\\n\\nRepos:\\n\\n  - quiet_None: https://bitbucket.org/candeira/quiet_none/\\n\\n  - question_dot: https://bitbucket.org/candeira/question_dot/\\n\\nPyCon Australia is the national conference for users of the Python Programming Language. In 2015, we\\'re heading to Brisbane to bring together students, enthusiasts, and professionals with a love of Python from around Australia, and all around the World. \\n\\nJuly 31-August 4, Brisbane, Queensland, Australia'}, 'kind': 'youtube#playlistItem'}, {'etag': '\"DsOZ7qVJA4mxdTxZeNzis6uE6ck/juiSpF5WdHY6ES22HveWgPDXYrw\"', 'id': 'UUI1qamd_jlSQpI5zuszag-ZpIDvtx1RqX', 'snippet': {'publishedAt': '2015-08-16T11:05:40.000Z', 'resourceId': {'videoId': '0FOQB4PZVe0', 'kind': 'youtube#video'}, 'playlistId': 'UUS9sdEyduD9K83K3GkvQlOA', 'channelId': 'UCS9sdEyduD9K83K3GkvQlOA', 'title': 'Privsep: A New Security Isolation Mechanism for OpenStack by Angus Lees', 'channelTitle': 'PyCon Australia', 'position': 4, 'thumbnails': {'default': {'url': 'https://i.ytimg.com/vi/0FOQB4PZVe0/default.jpg', 'width': 120, 'height': 90}, 'maxres': {'url': 'https://i.ytimg.com/vi/0FOQB4PZVe0/maxresdefault.jpg', 'width': 1280, 'height': 720}, 'standard': {'url': 'https://i.ytimg.com/vi/0FOQB4PZVe0/sddefault.jpg', 'width': 640, 'height': 480}, 'medium': {'url': 'https://i.ytimg.com/vi/0FOQB4PZVe0/mqdefault.jpg', 'width': 320, 'height': 180}, 'high': {'url': 'https://i.ytimg.com/vi/0FOQB4PZVe0/hqdefault.jpg', 'width': 480, 'height': 360}}, 'description': 'OpenStack listens to requests over the network, and (when appropriate) performs operations on the host that require root superpowers.  Following best-practice design, most of the code runs as an unprivileged user and only the code that needs additional powers runs as root using a tool called \"rootwrap\".\\n\\nThis talk discusses the evolution that led to the current rootwrap design, why it has proven to be completely inadequate in practice, and presents a new \"privsep\" alternative currently being worked on within Oslo.\\n\\nPyCon Australia is the national conference for users of the Python Programming Language. In 2015, we\\'re heading to Brisbane to bring together students, enthusiasts, and professionals with a love of Python from around Australia, and all around the World. \\n\\nJuly 31-August 4, Brisbane, Queensland, Australia'}, 'kind': 'youtube#playlistItem'}, {'etag': '\"DsOZ7qVJA4mxdTxZeNzis6uE6ck/85UBB1bIGeFBapXs4ekztpgEdJE\"', 'id': 'UUI1qamd_jlSQHYs5YqWDePN9AS1ZZCMFD', 'snippet': {'publishedAt': '2015-08-16T10:44:03.000Z', 'resourceId': {'videoId': 'x1rIPW6IYVI', 'kind': 'youtube#video'}, 'playlistId': 'UUS9sdEyduD9K83K3GkvQlOA', 'channelId': 'UCS9sdEyduD9K83K3GkvQlOA', 'title': 'Wax On, Wax Off: The Tough Love Guide to Mentoring by Anita Kuno', 'channelTitle': 'PyCon Australia', 'position': 5, 'thumbnails': {'default': {'url': 'https://i.ytimg.com/vi/x1rIPW6IYVI/default.jpg', 'width': 120, 'height': 90}, 'maxres': {'url': 'https://i.ytimg.com/vi/x1rIPW6IYVI/maxresdefault.jpg', 'width': 1280, 'height': 720}, 'standard': {'url': 'https://i.ytimg.com/vi/x1rIPW6IYVI/sddefault.jpg', 'width': 640, 'height': 480}, 'medium': {'url': 'https://i.ytimg.com/vi/x1rIPW6IYVI/mqdefault.jpg', 'width': 320, 'height': 180}, 'high': {'url': 'https://i.ytimg.com/vi/x1rIPW6IYVI/hqdefault.jpg', 'width': 480, 'height': 360}}, 'description': \"Everyone has more bugs than they can fix, more features they would like than time to write them. Wouldn't it be great to have some help? The problem is who knows enough about what you know to actually provide help the way you need?\\n\\nOpen Source has lots of fans and supporters, but many newcomers need the warmth of a person caring about their existence to actually turn them into a contributor.\\n\\nSomeone sees you working, is enamoured of what you do and wants to learn. You could break down the steps of what you are doing and get them to follow those steps, that is teaching.\\n\\nYou could recognize the deep inner understanding the is the foundation of your behaviour. You could decide to help someone build such a foundation for themselves. That is mentoring.\\n\\nMentoring is helping someone to fail and learn from it. Mentoring is about witnessing someone else's journey, whereever they go, whereever it takes them and saying I'm here, I'm with you, I'm watching. Mentoring is 99% listening.\\n\\nMentoring is much more time consuming than teaching. Teaching helps someone learn a skill, mentoring helps someone learn themselves.\\n\\nNow don't get me wrong, teaching is great and we need teachers and to be taught plus many great teachers can also be mentors. Teaching and mentoring are different.\\n\\nThis talk will discuss mentoring.\\n\\nWith examples drawn from learning acupuncture, yoga, astrology, pottery, working on film sets, heavy equipment operating as well as code, Anita will endeavour to share what she has learned about mentoring. She hopes you will take away the ability to recognize the difference between teaching and mentoring. She also hopes that should you decide to mentor you have some resources to help you strengthen your mentoring skills.\\n\\nPyCon Australia is the national conference for users of the Python Programming Language. In 2015, we're heading to Brisbane to bring together students, enthusiasts, and professionals with a love of Python from around Australia, and all around the World. \\n\\nJuly 31-August 4, Brisbane, Queensland, Australia\"}, 'kind': 'youtube#playlistItem'}, {'etag': '\"DsOZ7qVJA4mxdTxZeNzis6uE6ck/QaRCLwtKOaTYryaOfkZt9gV0lT4\"', 'id': 'UUI1qamd_jlSQIj_F2PFJbW9RqI8NipCaI', 'snippet': {'publishedAt': '2015-08-08T23:42:51.000Z', 'resourceId': {'videoId': '_pfJZfdwkgI', 'kind': 'youtube#video'}, 'playlistId': 'UUS9sdEyduD9K83K3GkvQlOA', 'channelId': 'UCS9sdEyduD9K83K3GkvQlOA', 'title': 'Lightning Talks & Closing', 'channelTitle': 'PyCon Australia', 'position': 6, 'thumbnails': {'default': {'url': 'https://i.ytimg.com/vi/_pfJZfdwkgI/default.jpg', 'width': 120, 'height': 90}, 'maxres': {'url': 'https://i.ytimg.com/vi/_pfJZfdwkgI/maxresdefault.jpg', 'width': 1280, 'height': 720}, 'standard': {'url': 'https://i.ytimg.com/vi/_pfJZfdwkgI/sddefault.jpg', 'width': 640, 'height': 480}, 'medium': {'url': 'https://i.ytimg.com/vi/_pfJZfdwkgI/mqdefault.jpg', 'width': 320, 'height': 180}, 'high': {'url': 'https://i.ytimg.com/vi/_pfJZfdwkgI/hqdefault.jpg', 'width': 480, 'height': 360}}, 'description': \"00:00 Intro\\n00:25 Nic Couglan - Asyncio and native co-routines in python 3.5\\n05:35 Tyson Clugg - Selenium Page Adaptor\\n10:25 Tom Eastman - Serialisation formats are not toys\\n16:00 Ben Davies - My Eyes, the goggles do nothing \\n20:43 Paula Andrea Martinez - Software Carpentry\\n24:17 Alex Hill - Django Many to Many Minus the Middle Men\\n29:34 Adam Breniki - Who remembers VisiCalc\\n33:34 Fraser Tweedale - Fast and Loose Reasoning and Parametricity\\n38:47 Amber 'Hawkie' Brown - Pythonic Naming\\n42:20 Sam Bishop - Distraction\\n47:36 Tim Bell - Time Travel Debugger\\n52:29 Brian Thron - Roll your own crypto\\n57:18 Thuran Sunti - UQ Robotics Club\\n1:02:35 Robert Collins - Data driven testing\\n\\nPyCon Australia is the national conference for users of the Python Programming Language. In 2015, we're heading to Brisbane to bring together students, enthusiasts, and professionals with a love of Python from around Australia, and all around the World. \\n\\nJuly 31-August 4, Brisbane, Queensland, Australia\"}, 'kind': 'youtube#playlistItem'}, {'etag': '\"DsOZ7qVJA4mxdTxZeNzis6uE6ck/TkP-OpiXBvjWuCa2lWzzkj3cHK4\"', 'id': 'UUI1qamd_jlSSqiZAivqYe-haPS5cWlDQm', 'snippet': {'publishedAt': '2015-08-07T00:47:49.000Z', 'resourceId': {'videoId': 'JG8-yurFBXM', 'kind': 'youtube#video'}, 'playlistId': 'UUS9sdEyduD9K83K3GkvQlOA', 'channelId': 'UCS9sdEyduD9K83K3GkvQlOA', 'title': 'A Scientific Game Engine in the Cloud by Oliver Nagy', 'channelTitle': 'PyCon Australia', 'position': 7, 'thumbnails': {'default': {'url': 'https://i.ytimg.com/vi/JG8-yurFBXM/default.jpg', 'width': 120, 'height': 90}, 'maxres': {'url': 'https://i.ytimg.com/vi/JG8-yurFBXM/maxresdefault.jpg', 'width': 1280, 'height': 720}, 'standard': {'url': 'https://i.ytimg.com/vi/JG8-yurFBXM/sddefault.jpg', 'width': 640, 'height': 480}, 'medium': {'url': 'https://i.ytimg.com/vi/JG8-yurFBXM/mqdefault.jpg', 'width': 320, 'height': 180}, 'high': {'url': 'https://i.ytimg.com/vi/JG8-yurFBXM/hqdefault.jpg', 'width': 480, 'height': 360}}, 'description': \"Azrael is a game engine for engineers. Unlike traditional engines it emphasises\\naccurate physics, runs in the Cloud, offers a language agnostic API, and is written in (mostly) Python.\\n\\nIts main purpose is to make it easy for engineers to build, study, and control\\ncomplex physical systems, for instance how to auto pilot a space ship; or a fleet\\nthereof; in formation; through an Asteroid belt...\\n\\nI will show a live demo to illustrate the concept. It uses a simple control\\nalgorithm to manoeuvre an object to a pre defined position in space. Once there\\nit will maintain that position despite random collisions with other objects.\\n\\nFor more information and demo videos please visit https://olitheolix.com/azrael.\\nThe code is available at https://github.com/olitheolix/azrael.\\n\\n\\nPyCon Australia is the national conference for users of the Python Programming Language. In 2015, we're heading to Brisbane to bring together students, enthusiasts, and professionals with a love of Python from around Australia, and all around the World. \\n\\nJuly 31-August 4, Brisbane, Queensland, Australia\"}, 'kind': 'youtube#playlistItem'}, {'etag': '\"DsOZ7qVJA4mxdTxZeNzis6uE6ck/CQartHcw0jse-cMFWOxm9Qfdj9I\"', 'id': 'UUI1qamd_jlSSLMJDU9LI_ZxPGZgVDNcx7', 'snippet': {'publishedAt': '2015-08-06T01:41:40.000Z', 'resourceId': {'videoId': 'i3rH5cU-Uz4', 'kind': 'youtube#video'}, 'playlistId': 'UUS9sdEyduD9K83K3GkvQlOA', 'channelId': 'UCS9sdEyduD9K83K3GkvQlOA', 'title': 'Make your logs work for you by Honza Král', 'channelTitle': 'PyCon Australia', 'position': 8, 'thumbnails': {'default': {'url': 'https://i.ytimg.com/vi/i3rH5cU-Uz4/default.jpg', 'width': 120, 'height': 90}, 'maxres': {'url': 'https://i.ytimg.com/vi/i3rH5cU-Uz4/maxresdefault.jpg', 'width': 1280, 'height': 720}, 'standard': {'url': 'https://i.ytimg.com/vi/i3rH5cU-Uz4/sddefault.jpg', 'width': 640, 'height': 480}, 'medium': {'url': 'https://i.ytimg.com/vi/i3rH5cU-Uz4/mqdefault.jpg', 'width': 320, 'height': 180}, 'high': {'url': 'https://i.ytimg.com/vi/i3rH5cU-Uz4/hqdefault.jpg', 'width': 480, 'height': 360}}, 'description': \"Any modern business generates a lot of logs - from customer transactions all the way to the technical logs of your servers. Many times these logs are thrown away or just sit uselessly somewhere on disk.\\n\\nI would like to show you how you can make sense of all that data, how to collect and clean them, store them in a scalable fashion and, finally, explore and search across various systems.\\n\\nOnce we have all the data in one place I will go over some examples of more advanced analysis (beyond simple, though very useful, counting of things) like finding patterns and trends in your data.\\n\\nWe will use Elasticsearch, Logstash and Kibana (aka the ELK stack) to achieve that. All tools presented are open source and examples will be using real life use cases.\\n\\nPyCon Australia is the national conference for users of the Python Programming Language. In 2015, we're heading to Brisbane to bring together students, enthusiasts, and professionals with a love of Python from around Australia, and all around the World. \\n\\nJuly 31-August 4, Brisbane, Queensland, Australia\"}, 'kind': 'youtube#playlistItem'}, {'etag': '\"DsOZ7qVJA4mxdTxZeNzis6uE6ck/UURKaL-KM4LEqCuHSfiNqbfOCyI\"', 'id': 'UUI1qamd_jlSSY1Nc7_MzsEL1v3UozhK9g', 'snippet': {'publishedAt': '2015-08-04T07:30:05.000Z', 'resourceId': {'videoId': 'BplV6BwAdsI', 'kind': 'youtube#video'}, 'playlistId': 'UUS9sdEyduD9K83K3GkvQlOA', 'channelId': 'UCS9sdEyduD9K83K3GkvQlOA', 'title': 'JSON Standards for the Web by Jamie  Lennox', 'channelTitle': 'PyCon Australia', 'position': 9, 'thumbnails': {'default': {'url': 'https://i.ytimg.com/vi/BplV6BwAdsI/default.jpg', 'width': 120, 'height': 90}, 'maxres': {'url': 'https://i.ytimg.com/vi/BplV6BwAdsI/maxresdefault.jpg', 'width': 1280, 'height': 720}, 'standard': {'url': 'https://i.ytimg.com/vi/BplV6BwAdsI/sddefault.jpg', 'width': 640, 'height': 480}, 'medium': {'url': 'https://i.ytimg.com/vi/BplV6BwAdsI/mqdefault.jpg', 'width': 320, 'height': 180}, 'high': {'url': 'https://i.ytimg.com/vi/BplV6BwAdsI/hqdefault.jpg', 'width': 480, 'height': 360}}, 'description': \"RESTful APIs reign supreme! No longer do developers have to put up with SOAP\\nand XML-RPC and those bulky, schema laden exchanges. JSON maps almost directly\\nto python and we're flying again!\\n\\nOver time the chaos of free form JSON representations has subsided and a number\\nof best practices have appeared such that we now expect certain patterns when\\nencountering a new JSON REST API. The next step is to standardize these\\npractices and start offering the predictability and code reuse we lost years\\nago.\\n\\nThe talk will provide an overview of current attempts at standardizing JSON\\nexchanges such as jsonapi, jsonhome and jsonschema.\\n\\nPyCon Australia is the national conference for users of the Python Programming Language. In 2015, we're heading to Brisbane to bring together students, enthusiasts, and professionals with a love of Python from around Australia, and all around the World. \\n\\nJuly 31-August 4, Brisbane, Queensland, Australia\"}, 'kind': 'youtube#playlistItem'}], 'kind': 'youtube#playlistItemListResponse'}\n"
     ]
    }
   ],
   "source": [
    "import googleapiclient\n",
    "from googleapiclient.discovery import build\n",
    "from secrets import API_KEY\n",
    "youtube = build('youtube', 'v3', developerKey=API_KEY)\n",
    "#help(yt_service.videos) # videos channels playlists\n",
    "pyconau_channels = youtube.channels().list(forUsername='PyConAU', part='contentDetails').execute()\n",
    "\n",
    "uploads_list_id = pyconau_channels['items'][0]['contentDetails']['relatedPlaylists']['uploads']\n",
    "print(uploads_list_id)\n",
    "\n",
    "\n",
    "# Retrieve the list of videos uploaded to the authenticated user's channel.\n",
    "playlistitems_list_request = youtube.playlistItems().list(\n",
    "    playlistId=uploads_list_id,\n",
    "    part=\"snippet\",\n",
    "    maxResults=10\n",
    "  )\n",
    "\n",
    "video_ids = []\n",
    "playlistitems_list_response = playlistitems_list_request.execute()\n",
    "for playlist_item in playlistitems_list_response[\"items\"]:\n",
    "    title = playlist_item[\"snippet\"][\"title\"]\n",
    "    published = playlist_item[\"snippet\"][\"publishedAt\"]\n",
    "    video_id = playlist_item[\"snippet\"][\"resourceId\"][\"videoId\"]\n",
    "    video_ids.append(video_id)\n",
    "    print(\"{}s ({})\".format(title, published))\n",
    "print('----------')\n",
    "print(playlistitems_list_response)"
   ]
  },
  {
   "cell_type": "code",
   "execution_count": 2,
   "metadata": {
    "collapsed": false
   },
   "outputs": [
    {
     "data": {
      "text/plain": [
       "'\\nwhile playlistitems_list_request:\\n    playlistitems_list_response = playlistitems_list_request.execute()\\n\\n    # Print information about each video.\\n    for playlist_item in playlistitems_list_response[\"items\"]:\\n      title = playlist_item[\"snippet\"][\"title\"]\\n      video_id = playlist_item[\"snippet\"][\"resourceId\"][\"videoId\"]\\n      print(\"%s (%s)\" % (title, video_id))\\n\\n    playlistitems_list_request = youtube.playlistItems().list_next(\\n      playlistitems_list_request, playlistitems_list_response)\\n'"
      ]
     },
     "execution_count": 2,
     "metadata": {},
     "output_type": "execute_result"
    }
   ],
   "source": [
    "\"\"\"\n",
    "while playlistitems_list_request:\n",
    "    playlistitems_list_response = playlistitems_list_request.execute()\n",
    "\n",
    "    # Print information about each video.\n",
    "    for playlist_item in playlistitems_list_response[\"items\"]:\n",
    "      title = playlist_item[\"snippet\"][\"title\"]\n",
    "      video_id = playlist_item[\"snippet\"][\"resourceId\"][\"videoId\"]\n",
    "      print(\"%s (%s)\" % (title, video_id))\n",
    "\n",
    "    playlistitems_list_request = youtube.playlistItems().list_next(\n",
    "      playlistitems_list_request, playlistitems_list_response)\n",
    "\"\"\""
   ]
  },
  {
   "cell_type": "code",
   "execution_count": 6,
   "metadata": {
    "collapsed": false
   },
   "outputs": [
    {
     "data": {
      "text/plain": [
       "{'etag': '\"DsOZ7qVJA4mxdTxZeNzis6uE6ck/UURKaL-KM4LEqCuHSfiNqbfOCyI\"',\n",
       " 'id': 'UUI1qamd_jlSSY1Nc7_MzsEL1v3UozhK9g',\n",
       " 'kind': 'youtube#playlistItem',\n",
       " 'snippet': {'channelId': 'UCS9sdEyduD9K83K3GkvQlOA',\n",
       "  'channelTitle': 'PyCon Australia',\n",
       "  'description': \"RESTful APIs reign supreme! No longer do developers have to put up with SOAP\\nand XML-RPC and those bulky, schema laden exchanges. JSON maps almost directly\\nto python and we're flying again!\\n\\nOver time the chaos of free form JSON representations has subsided and a number\\nof best practices have appeared such that we now expect certain patterns when\\nencountering a new JSON REST API. The next step is to standardize these\\npractices and start offering the predictability and code reuse we lost years\\nago.\\n\\nThe talk will provide an overview of current attempts at standardizing JSON\\nexchanges such as jsonapi, jsonhome and jsonschema.\\n\\nPyCon Australia is the national conference for users of the Python Programming Language. In 2015, we're heading to Brisbane to bring together students, enthusiasts, and professionals with a love of Python from around Australia, and all around the World. \\n\\nJuly 31-August 4, Brisbane, Queensland, Australia\",\n",
       "  'playlistId': 'UUS9sdEyduD9K83K3GkvQlOA',\n",
       "  'position': 9,\n",
       "  'publishedAt': '2015-08-04T07:30:05.000Z',\n",
       "  'resourceId': {'kind': 'youtube#video', 'videoId': 'BplV6BwAdsI'},\n",
       "  'thumbnails': {'default': {'height': 90,\n",
       "    'url': 'https://i.ytimg.com/vi/BplV6BwAdsI/default.jpg',\n",
       "    'width': 120},\n",
       "   'high': {'height': 360,\n",
       "    'url': 'https://i.ytimg.com/vi/BplV6BwAdsI/hqdefault.jpg',\n",
       "    'width': 480},\n",
       "   'maxres': {'height': 720,\n",
       "    'url': 'https://i.ytimg.com/vi/BplV6BwAdsI/maxresdefault.jpg',\n",
       "    'width': 1280},\n",
       "   'medium': {'height': 180,\n",
       "    'url': 'https://i.ytimg.com/vi/BplV6BwAdsI/mqdefault.jpg',\n",
       "    'width': 320},\n",
       "   'standard': {'height': 480,\n",
       "    'url': 'https://i.ytimg.com/vi/BplV6BwAdsI/sddefault.jpg',\n",
       "    'width': 640}},\n",
       "  'title': 'JSON Standards for the Web by Jamie  Lennox'}}"
      ]
     },
     "execution_count": 6,
     "metadata": {},
     "output_type": "execute_result"
    }
   ],
   "source": [
    "playlist_item"
   ]
  },
  {
   "cell_type": "code",
   "execution_count": 8,
   "metadata": {
    "collapsed": true
   },
   "outputs": [],
   "source": [
    "# useful https://github.com/youtube/api-samples/blob/master/python/my_uploads.py\n",
    "analytics = build('youtubeAnalytics', 'v1', developerKey=API_KEY)"
   ]
  },
  {
   "cell_type": "code",
   "execution_count": 14,
   "metadata": {
    "collapsed": false
   },
   "outputs": [
    {
     "name": "stdout",
     "output_type": "stream",
     "text": [
      "{'etag': '\"DsOZ7qVJA4mxdTxZeNzis6uE6ck/gUmJ7-cRwwDomQ6AoXEzcIjGF1U\"', 'id': 'Wnj31Nejstc', 'statistics': {'viewCount': '357', 'commentCount': '0', 'likeCount': '2', 'favoriteCount': '0', 'dislikeCount': '0'}, 'kind': 'youtube#video'}\n",
      "{'etag': '\"DsOZ7qVJA4mxdTxZeNzis6uE6ck/7uWCgd8Ef_TZr4Z2_1sIRnlzASo\"', 'id': 'c16jwvOmKxM', 'statistics': {'viewCount': '191', 'commentCount': '0', 'likeCount': '0', 'favoriteCount': '0', 'dislikeCount': '0'}, 'kind': 'youtube#video'}\n",
      "{'etag': '\"DsOZ7qVJA4mxdTxZeNzis6uE6ck/lythPbALZK17P2e5J6e8of7JN08\"', 'id': '2e9dMr5sErs', 'statistics': {'viewCount': '97', 'commentCount': '0', 'likeCount': '1', 'favoriteCount': '0', 'dislikeCount': '0'}, 'kind': 'youtube#video'}\n",
      "{'etag': '\"DsOZ7qVJA4mxdTxZeNzis6uE6ck/Wzn-9hirRBAdOTpv2M3YJfaNsWo\"', 'id': '9_LnOTFDNUk', 'statistics': {'viewCount': '89', 'commentCount': '0', 'likeCount': '1', 'favoriteCount': '0', 'dislikeCount': '0'}, 'kind': 'youtube#video'}\n",
      "{'etag': '\"DsOZ7qVJA4mxdTxZeNzis6uE6ck/SL1A3OF8A-_3AuG3ivkRdZCtqSg\"', 'id': '0FOQB4PZVe0', 'statistics': {'viewCount': '68', 'commentCount': '0', 'likeCount': '1', 'favoriteCount': '0', 'dislikeCount': '0'}, 'kind': 'youtube#video'}\n",
      "{'etag': '\"DsOZ7qVJA4mxdTxZeNzis6uE6ck/DdCa2wJ0SAjD2eyUHpnjO5Kbimg\"', 'id': 'x1rIPW6IYVI', 'statistics': {'viewCount': '126', 'commentCount': '1', 'likeCount': '0', 'favoriteCount': '0', 'dislikeCount': '0'}, 'kind': 'youtube#video'}\n",
      "{'etag': '\"DsOZ7qVJA4mxdTxZeNzis6uE6ck/lfFPbpzL9-29tIQeRzR13QnUiHY\"', 'id': '_pfJZfdwkgI', 'statistics': {'viewCount': '292', 'commentCount': '0', 'likeCount': '3', 'favoriteCount': '0', 'dislikeCount': '0'}, 'kind': 'youtube#video'}\n",
      "{'etag': '\"DsOZ7qVJA4mxdTxZeNzis6uE6ck/Me6Kq2Inc5Vb214Pr0FY0AyjNUU\"', 'id': 'JG8-yurFBXM', 'statistics': {'viewCount': '161', 'commentCount': '0', 'likeCount': '1', 'favoriteCount': '0', 'dislikeCount': '0'}, 'kind': 'youtube#video'}\n",
      "{'etag': '\"DsOZ7qVJA4mxdTxZeNzis6uE6ck/m0eNjo-p8dve92j5mCWtaQUwrGo\"', 'id': 'i3rH5cU-Uz4', 'statistics': {'viewCount': '246', 'commentCount': '0', 'likeCount': '2', 'favoriteCount': '0', 'dislikeCount': '0'}, 'kind': 'youtube#video'}\n",
      "{'etag': '\"DsOZ7qVJA4mxdTxZeNzis6uE6ck/7Uzu_GjWzKFjQz01HU1TtBtD9o8\"', 'id': 'BplV6BwAdsI', 'statistics': {'viewCount': '172', 'commentCount': '0', 'likeCount': '0', 'favoriteCount': '0', 'dislikeCount': '0'}, 'kind': 'youtube#video'}\n"
     ]
    }
   ],
   "source": [
    "all_videos = youtube.videos().list(id=','.join(video_ids), part='id,statistics').execute()\n",
    "for video in all_videos['items']:\n",
    "    print(video)"
   ]
  },
  {
   "cell_type": "code",
   "execution_count": null,
   "metadata": {
    "collapsed": true
   },
   "outputs": [],
   "source": []
  }
 ],
 "metadata": {
  "kernelspec": {
   "display_name": "Python 3",
   "language": "python",
   "name": "python3"
  },
  "language_info": {
   "codemirror_mode": {
    "name": "ipython",
    "version": 3
   },
   "file_extension": ".py",
   "mimetype": "text/x-python",
   "name": "python",
   "nbconvert_exporter": "python",
   "pygments_lexer": "ipython3",
   "version": "3.5.1"
  }
 },
 "nbformat": 4,
 "nbformat_minor": 0
}
